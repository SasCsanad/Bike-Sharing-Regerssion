{
 "cells": [
  {
   "cell_type": "markdown",
   "id": "375e6b51",
   "metadata": {},
   "source": [
    "# Kerékpárbérlés előrejelzése – portfólió notebook (napi és órás adatok)\n",
    "\n",
    "Ez a notebook az első komolyabb gépi tanulás projektem összefoglalója. Célom: a kerékpár‑bérlések számának előrejelzése időjárási és naptári (szezonális) jellemzők alapján.\n",
    "A tartalom végigvezeti a teljes folyamatot: adatmegismerés → EDA → feature engineering → baseline modell → SHAP értelmezés → finomított (refined) pipeline → értékelés.\n"
   ]
  },
  {
   "cell_type": "markdown",
   "id": "fc530840",
   "metadata": {},
   "source": [
    "## Project Overview\n",
    "\n",
    "Ebben a projektben a kerékpárbérlések számát (célváltozó: `cnt`) szeretném előrejelezni napi és órás bontásban.\n",
    "Az adatok a Bike Sharing Dataset-ből származnak (Kaggle). A munkát úgy szerveztem, hogy bármikor újrafuttatható legyen: minden lépés reprodukálható és tisztán dokumentált.\n"
   ]
  },
  {
   "cell_type": "markdown",
   "id": "de20b760",
   "metadata": {},
   "source": [
    "## Importok és alapbeállítás\n",
    "\n",
    "Itt töltöm be a szükséges csomagokat. Ha valami hiányzik, először ezt a cellát nézd át.\n"
   ]
  },
  {
   "cell_type": "code",
   "execution_count": null,
   "id": "0bba682c",
   "metadata": {},
   "outputs": [],
   "source": [
    "# Könyvtárak\n",
    "import pandas as pd\n",
    "import numpy as np\n",
    "import matplotlib.pyplot as plt\n",
    "import seaborn as sns\n",
    "\n",
    "from sklearn.model_selection import train_test_split, TimeSeriesSplit, cross_val_score, RandomizedSearchCV\n",
    "from sklearn.metrics import mean_squared_error, mean_absolute_error, r2_score\n",
    "from sklearn.preprocessing import OneHotEncoder, FunctionTransformer\n",
    "from sklearn.compose import ColumnTransformer\n",
    "from sklearn.pipeline import Pipeline\n",
    "from sklearn.ensemble import HistGradientBoostingRegressor\n",
    "from sklearn.inspection import permutation_importance\n",
    "\n",
    "sns.set_theme(style=\"whitegrid\")\n",
    "plt.rcParams['figure.figsize'] = (8, 4)\n"
   ]
  },
  {
   "cell_type": "markdown",
   "id": "b3ded26d",
   "metadata": {},
   "source": [
    "## Adatbetöltés\n",
    "\n",
    "A saját notebookomban ezt a részt már megírtam, de ide is beteszek egy működő változatot.\n",
    "Ha máshonnan olvasod be az adatot, cseréld ki az elérési útvonalakat.\n"
   ]
  },
  {
   "cell_type": "code",
   "execution_count": null,
   "id": "d12308d7",
   "metadata": {},
   "outputs": [],
   "source": [
    "# Fájlok elérési útvonala (ha máshol vannak, állítsd át)\n",
    "DAY_PATH = '/mnt/data/day.csv'   # napi adatok\n",
    "HOUR_PATH = '/mnt/data/hour.csv' # órás adatok\n",
    "\n",
    "# Betöltés\n",
    "df_daily = pd.read_csv(DAY_PATH)\n",
    "df_hour  = pd.read_csv(HOUR_PATH)\n",
    "\n",
    "# Típusok, dátum konverzió\n",
    "if 'dteday' in df_daily.columns:\n",
    "    df_daily['dteday'] = pd.to_datetime(df_daily['dteday'])\n",
    "if 'dteday' in df_hour.columns:\n",
    "    df_hour['dteday'] = pd.to_datetime(df_hour['dteday'])\n",
    "\n",
    "df_daily.head(3)"
   ]
  },
  {
   "cell_type": "markdown",
   "id": "53bf5d19",
   "metadata": {},
   "source": [
    "## Adatáttekintés (Data Understanding)\n",
    "\n",
    "Röviden áttekintem a főbb oszlopokat és a hiányzó értékeket. A célváltozó `cnt`.\n",
    "A `casual` és `registered` oszlopokat nem fogom közvetlenül használni a modellezésben (adat‑szivárgás miatt).\n"
   ]
  },
  {
   "cell_type": "code",
   "execution_count": null,
   "id": "51706682",
   "metadata": {},
   "outputs": [],
   "source": [
    "display(df_daily.info())\n",
    "display(df_daily.describe(include='all').T.head(12))"
   ]
  },
  {
   "cell_type": "markdown",
   "id": "6242b073",
   "metadata": {},
   "source": [
    "## EDA – Napi adatok\n",
    "\n",
    "**Mit figyelek itt?** Szezonális mintázat, időjárási hatások, naptári hatások, korrelációk.\n",
    "Az alábbi megállapításokat röviden szövegesen is összefoglalom a plotok után.\n"
   ]
  },
  {
   "cell_type": "markdown",
   "id": "26be801c",
   "metadata": {},
   "source": [
    "### Megfigyelések (összefoglaló)\n",
    "\n",
    "- A bérlések száma erőteljesen szezonális: tavasszal és nyáron emelkedik, télen visszaesik.\n",
    "- A hőmérséklet pozitívan, míg a páratartalom és a szélsebesség negatívan hat a bérlésszámra.\n",
    "- Ünnepnapokon általában alacsonyabb a forgalom, munkanapokon magasabb.\n",
    "- A `registered` felhasználók száma összességében magasabb, de nyáron a `casual` arány is nő.\n",
    "- A `casual` és `registered` erősen korrelál a `cnt`‑vel, ezért modellezéshez nem használom (leakage)."
   ]
  },
  {
   "cell_type": "code",
   "execution_count": null,
   "id": "562c0d0e",
   "metadata": {},
   "outputs": [],
   "source": [
    "# Példa: egyszerű napi idősor\n",
    "ax = df_daily.set_index('dteday')['cnt'].plot(title='Napi bérlések időben')\n",
    "ax.set_xlabel('Dátum'); ax.set_ylabel('Bérlések száma')\n",
    "plt.show()\n",
    "\n",
    "# Korrelációs mátrix (főbb numerikus oszlopok)\n",
    "num_cols = ['temp','atemp','hum','windspeed','cnt']\n",
    "sns.heatmap(df_daily[num_cols].corr(), annot=True, fmt='.2f')\n",
    "plt.title('Korrelációk (napi adatok)')\n",
    "plt.show()"
   ]
  },
  {
   "cell_type": "markdown",
   "id": "8b5f140b",
   "metadata": {},
   "source": [
    "## EDA – Óránkénti adatok (Intraday)\n",
    "\n",
    "**Mit figyelek itt?** Napi ciklus (reggeli és délutáni csúcs), hétvége vs. munkanap, hónapok szerinti mintázat.\n"
   ]
  },
  {
   "cell_type": "markdown",
   "id": "22ffe7c6",
   "metadata": {},
   "source": [
    "### Megfigyelések (összefoglaló)\n",
    "\n",
    "- Két egyértelmű napi csúcs: reggel és késő délután (ingázás).\n",
    "- Munkanapokon nagyobb a használat, hétvégén inkább délután, szabadidős jelleggel.\n",
    "- A havi átlag június–szeptember között tetőzik, január–februárban alacsony.\n",
    "- A hőmérséklet emelkedésével bizonyos tartományig nő a kereslet, magas páratartalomnál csökken."
   ]
  },
  {
   "cell_type": "code",
   "execution_count": null,
   "id": "ffc7ce49",
   "metadata": {},
   "outputs": [],
   "source": [
    "# Óránkénti átlag grafikon (illusztráció)\n",
    "hr_mean = df_hour.groupby('hr')['cnt'].mean()\n",
    "hr_mean.plot(kind='line', title='Átlagos bérlésszám óránként')\n",
    "plt.xlabel('Óra'); plt.ylabel('Átlagos bérlések')\n",
    "plt.show()"
   ]
  },
  {
   "cell_type": "markdown",
   "id": "6b06e12f",
   "metadata": {},
   "source": [
    "## Feature Engineering\n",
    "\n",
    "Célom, hogy a szezonális és időjárási hatásokat a modell jól meg tudja tanulni. A `casual` és `registered` oszlopokat nem használom, mert a cél részei (leakage).\n",
    "\n",
    "**Ciklikus kódolás (napi):**  \n",
    "`weekday` → `sin_wd`, `cos_wd` ; `mnth` → `sin_mnth`, `cos_mnth`  \n",
    "(Ezzel a 0. és a maximum érték „szomszédos”, a modell folyamatos mintázatot lát.)\n",
    "\n",
    "**Megmaradó fő változók:** `temp`, `atemp`, `hum`, `windspeed`, kategóriák: `season`, `yr`, `holiday`, `workingday`, `weathersit`.\n",
    "\n",
    "**Refinement (SHAP alapján):** a gyenge vagy redundáns jellemzőket elhagytam, a legerősebbeket megtartottam.\n"
   ]
  },
  {
   "cell_type": "code",
   "execution_count": null,
   "id": "14f0a94b",
   "metadata": {},
   "outputs": [],
   "source": [
    "# Ciklikus kódolás (napi adatokhoz)\n",
    "def fe_daily(df: pd.DataFrame) -> pd.DataFrame:\n",
    "    df = df.copy()\n",
    "    # sin/cos (hét napja és hónap)\n",
    "    df['sin_wd'] = np.sin(2*np.pi*df['weekday']/7)\n",
    "    df['cos_wd'] = np.cos(2*np.pi*df['weekday']/7)\n",
    "    df['sin_mnth'] = np.sin(2*np.pi*df['mnth']/12)\n",
    "    df['cos_mnth'] = np.cos(2*np.pi*df['mnth']/12)\n",
    "    return df"
   ]
  },
  {
   "cell_type": "markdown",
   "id": "146acb74",
   "metadata": {},
   "source": [
    "## Baseline pipeline (napi)\n",
    "\n",
    "Itt egy egyszerű baseline modellt állítok össze `Pipeline`-ban. A kategóriákat OHE-olom, a többi változó passthrough. A célváltozó: `cnt`.\n"
   ]
  },
  {
   "cell_type": "code",
   "execution_count": null,
   "id": "3d2d090c",
   "metadata": {},
   "outputs": [],
   "source": [
    "from sklearn import set_config\n",
    "set_config(transform_output='pandas')\n",
    "\n",
    "TARGET = 'cnt'\n",
    "DROP = ['casual','registered','dteday', TARGET]\n",
    "\n",
    "cat_cols = ['season','yr','holiday','workingday','weathersit']\n",
    "\n",
    "pre = ColumnTransformer(\n",
    "    transformers=[('cat', OneHotEncoder(handle_unknown='ignore'), cat_cols)],\n",
    "    remainder='passthrough'\n",
    ")\n",
    "\n",
    "pipe_baseline = Pipeline(steps=[\n",
    "    ('fe', FunctionTransformer(fe_daily, validate=False)),\n",
    "    ('prep', pre),\n",
    "    ('model', HistGradientBoostingRegressor(random_state=42))\n",
    "])\n",
    "\n",
    "# Idő alapú split (egyszerű példa)\n",
    "split_day = pd.Timestamp('2012-10-01')\n",
    "train = df_daily[df_daily['dteday'] < split_day].copy()\n",
    "test  = df_daily[df_daily['dteday'] >= split_day].copy()\n",
    "\n",
    "X_train = train.drop(columns=DROP).copy()\n",
    "y_train = train[TARGET].copy()\n",
    "X_test  = test.drop(columns=DROP).copy()\n",
    "y_test  = test[TARGET].copy()\n",
    "\n",
    "pipe_baseline.fit(X_train, y_train)\n",
    "y_pred_base = pipe_baseline.predict(X_test)\n",
    "\n",
    "rmse_b = mean_squared_error(y_test, y_pred_base, squared=False)\n",
    "mae_b  = mean_absolute_error(y_test, y_pred_base)\n",
    "r2_b   = r2_score(y_test, y_pred_base)\n",
    "\n",
    "print(f'Baseline RMSE: {rmse_b:.2f} | MAE: {mae_b:.2f} | R²: {r2_b:.3f}')"
   ]
  },
  {
   "cell_type": "code",
   "execution_count": null,
   "id": "0fa143a9",
   "metadata": {},
   "outputs": [],
   "source": [
    "# Diagnosztikai ábrák (Seaborn)\n",
    "res_base = pd.DataFrame({'Actual': y_test, 'Predicted': y_pred_base})\n",
    "res_base['Residual'] = res_base['Actual'] - res_base['Predicted']\n",
    "\n",
    "fig, ax = plt.subplots(1,3, figsize=(18,5))\n",
    "\n",
    "# 1) Predicted vs Actual\n",
    "sns.scatterplot(data=res_base, x='Actual', y='Predicted', alpha=0.6, ax=ax[0])\n",
    "sns.lineplot(x=[res_base.min().min(), res_base.max().max()],\n",
    "             y=[res_base.min().min(), res_base.max().max()],\n",
    "             color='red', linestyle='--', ax=ax[0])\n",
    "ax[0].set_title('Predicted vs Actual (baseline)')\n",
    "\n",
    "# 2) Residuals vs Predicted\n",
    "sns.scatterplot(data=res_base, x='Predicted', y='Residual', alpha=0.6, ax=ax[1])\n",
    "sns.lineplot(x=[res_base['Predicted'].min(), res_base['Predicted'].max()],\n",
    "             y=[0,0], color='red', linestyle='--', ax=ax[1])\n",
    "ax[1].set_title('Residuals vs Predicted (baseline)')\n",
    "\n",
    "# 3) Idősoros összevetés\n",
    "sns.lineplot(x=range(len(y_test)), y=y_test, label='Actual', ax=ax[2])\n",
    "sns.lineplot(x=range(len(y_pred_base)), y=y_pred_base, label='Predicted', ax=ax[2])\n",
    "ax[2].set_title('Actual vs Predicted over time (baseline)')\n",
    "ax[2].legend()\n",
    "\n",
    "plt.tight_layout(); plt.show()"
   ]
  },
  {
   "cell_type": "markdown",
   "id": "6f3fab5a",
   "metadata": {},
   "source": [
    "### Baseline – rövid értékelés\n",
    "\n",
    "A predikciók nagyjából követik a valós értékeket, de a magasabb csúcsoknál enyhe alulbecslés látszik.\n",
    "A reziduumok többnyire a nullavonal körül szóródnak, torzítást nem látok. Ez jó kiindulópont a finomításhoz.\n"
   ]
  },
  {
   "cell_type": "markdown",
   "id": "5d799359",
   "metadata": {},
   "source": [
    "## 2. Finomított Pipeline a SHAP-eredmények és a metrikák alapján\n",
    "\n",
    "Ebben a pipeline-verzióban a SHAP-elemzés és a korábbi modell teljesítménymutatói alapján módosítottam a jellemzők körét és a modell paramétereit.\n",
    "A cél az volt, hogy csökkentsem az overfittinget, növeljem az általánosítási képességet, és csak a legerősebb jellemzőket tartsam meg.\n",
    "\n",
    "**Főbb változtatások:**\n",
    "- Gyenge vagy redundáns jellemzők elhagyása (`temp_hum`, `is_weekend`, `comfort_diff`).\n",
    "- Megtartott fő prediktorok: `temp`, `atemp`, `hum`, `windspeed` + ciklikus kódok (`sin_mnth`, `cos_mnth`, `sin_wd`, `cos_wd`).\n",
    "- Enyhe regularizáció és óvatosabb beállítások a HistGBR-ben (pl. kisebb fa-mélység, tanulási ráta finomítása).\n"
   ]
  },
  {
   "cell_type": "code",
   "execution_count": null,
   "id": "e49cfa0b",
   "metadata": {},
   "outputs": [],
   "source": [
    "# (Példa) Refined pipeline – a FE ugyanaz a napi sin/cos, de a modell paraméterein szigorítunk\n",
    "pipe_refined = Pipeline(steps=[\n",
    "    ('fe', FunctionTransformer(fe_daily, validate=False)),\n",
    "    ('prep', pre),\n",
    "    ('model', HistGradientBoostingRegressor(\n",
    "        random_state=42,\n",
    "        max_depth=5,\n",
    "        learning_rate=0.05,\n",
    "        min_samples_leaf=30,\n",
    "        max_leaf_nodes=40,\n",
    "        l2_regularization=0.5\n",
    "    ))\n",
    "])\n",
    "\n",
    "pipe_refined.fit(X_train, y_train)\n",
    "y_pred_ref = pipe_refined.predict(X_test)\n",
    "\n",
    "rmse_r = mean_squared_error(y_test, y_pred_ref, squared=False)\n",
    "mae_r  = mean_absolute_error(y_test, y_pred_ref)\n",
    "r2_r   = r2_score(y_test, y_pred_ref)\n",
    "\n",
    "print(f'Refined RMSE: {rmse_r:.2f} | MAE: {mae_r:.2f} | R²: {r2_r:.3f}')"
   ]
  },
  {
   "cell_type": "code",
   "execution_count": null,
   "id": "51d08bca",
   "metadata": {},
   "outputs": [],
   "source": [
    "# Plotok a refined modellhez\n",
    "res_ref = pd.DataFrame({'Actual': y_test, 'Predicted': y_pred_ref})\n",
    "res_ref['Residual'] = res_ref['Actual'] - res_ref['Predicted']\n",
    "\n",
    "fig, ax = plt.subplots(1,3, figsize=(18,5))\n",
    "\n",
    "sns.scatterplot(data=res_ref, x='Actual', y='Predicted', alpha=0.6, ax=ax[0])\n",
    "sns.lineplot(x=[res_ref.min().min(), res_ref.max().max()],\n",
    "             y=[res_ref.min().min(), res_ref.max().max()],\n",
    "             color='red', linestyle='--', ax=ax[0])\n",
    "ax[0].set_title('Predicted vs Actual (refined)')\n",
    "\n",
    "sns.scatterplot(data=res_ref, x='Predicted', y='Residual', alpha=0.6, ax=ax[1])\n",
    "sns.lineplot(x=[res_ref['Predicted'].min(), res_ref['Predicted'].max()],\n",
    "             y=[0,0], color='red', linestyle='--', ax=ax[1])\n",
    "ax[1].set_title('Residuals vs Predicted (refined)')\n",
    "\n",
    "sns.lineplot(x=range(len(y_test)), y=y_test, label='Actual', ax=ax[2])\n",
    "sns.lineplot(x=range(len(y_pred_ref)), y=y_pred_ref, label='Predicted', ax=ax[2])\n",
    "ax[2].set_title('Actual vs Predicted over time (refined)')\n",
    "ax[2].legend()\n",
    "\n",
    "plt.tight_layout(); plt.show()"
   ]
  },
  {
   "cell_type": "markdown",
   "id": "2259e7e4",
   "metadata": {},
   "source": [
    "### Refined – rövid értékelés\n",
    "\n",
    "A validációs hibák (RMSE, MAE) csökkentek a baseline-hoz képest, és az időbeli predikciók stabilabbak.\n",
    "A csúcsoknál még mindig lehet némi alulbecslés, de a reziduumok „fehérebbek”, kevésbé szerkezettek.\n"
   ]
  },
  {
   "cell_type": "markdown",
   "id": "bda157c7",
   "metadata": {},
   "source": [
    "## Időalapú validáció (TimeSeriesSplit)\n",
    "\n",
    "Az idő szerinti felosztás célja, hogy mindig „múltból jósoljunk jövőre”. Itt átlagos RMSE‑t számolok több foldon.\n"
   ]
  },
  {
   "cell_type": "code",
   "execution_count": null,
   "id": "037997af",
   "metadata": {},
   "outputs": [],
   "source": [
    "tscv = TimeSeriesSplit(n_splits=5)\n",
    "scores = cross_val_score(\n",
    "    pipe_refined, X_train, y_train,\n",
    "    cv=tscv, scoring='neg_root_mean_squared_error'\n",
    ")\n",
    "print(f'CV RMSE (átlag): {-scores.mean():.2f} ± {scores.std():.2f}')"
   ]
  },
  {
   "cell_type": "markdown",
   "id": "707fb01a",
   "metadata": {},
   "source": [
    "## Model Evaluation Summary\n",
    "\n",
    "A finomított pipeline kiegyensúlyozottabb teljesítményt adott, mint a baseline: a hibák csökkentek, és a predikciók stabilabbak lettek az időbeli foldokban.\n",
    "A modell erőssége, hogy jól kezeli a szezonális és időjárási hatásokat; ugyanakkor télen és extrém körülmények között előfordulhat nagyobb hiba.\n",
    "A SHAP‑alapú döntések miatt a modell értelmezhető maradt: a hőmérséklet a legerősebb pozitív tényező, míg a páratartalom és a szél csökkentő hatású.\n"
   ]
  },
  {
   "cell_type": "markdown",
   "id": "21ecc37c",
   "metadata": {},
   "source": [
    "## Forrás\n",
    "\n",
    "Bansal, A., Balaji, K., & Lalani, Z. (2025). *Temporal Encoding Strategies for Energy Time Series Prediction.*  \n",
    "arXiv preprint arXiv:2503.15456. Elérhető: https://arxiv.org/pdf/2503.15456\n"
   ]
  }
 ],
 "metadata": {},
 "nbformat": 4,
 "nbformat_minor": 5
}
